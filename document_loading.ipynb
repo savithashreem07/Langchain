{
 "cells": [
  {
   "cell_type": "code",
   "execution_count": 1,
   "metadata": {},
   "outputs": [],
   "source": [
    "import os\n",
    "import warnings\n",
    "from openai import OpenAI\n",
    "\n",
    "# Define OpenAI API_KEY\n",
    "with open(\"/home/savitha07/.env\") as env:\n",
    "    for line in env:\n",
    "        key, value = line.strip().split('=')\n",
    "        os.environ[key] = value\n",
    "\n",
    "client = OpenAI(\n",
    "    api_key=os.environ.get('OPENAI_API_KEY'),\n",
    ")\n",
    "\n",
    "warnings.filterwarnings(\"ignore\")"
   ]
  },
  {
   "cell_type": "code",
   "execution_count": 2,
   "metadata": {},
   "outputs": [
    {
     "data": {
      "text/plain": [
       "22"
      ]
     },
     "execution_count": 2,
     "metadata": {},
     "output_type": "execute_result"
    }
   ],
   "source": [
    "# PDF loading\n",
    "from langchain.document_loaders import PyPDFLoader\n",
    "\n",
    "loader1 = PyPDFLoader(\"docs/MachineLearning-Lecture01.pdf\")\n",
    "pages1 = loader1.load()\n",
    "\n",
    "len(pages1)"
   ]
  },
  {
   "cell_type": "code",
   "execution_count": 3,
   "metadata": {},
   "outputs": [
    {
     "name": "stdout",
     "output_type": "stream",
     "text": [
      "MachineLearning-Lecture01  \n",
      "Instructor (Andrew Ng):  Okay. Good morning. Welcome to CS229, the machine \n",
      "learning class. So what I wanna do today is ju st spend a little time going over the logistics \n",
      "of the class, and then we'll start to  talk a bit about machine learning.  \n",
      "By way of introduction, my name's  Andrew Ng and I'll be instru ctor for this class. And so \n",
      "I personally work in machine learning, and I' ve worked on it for about 15 years now, and \n",
      "I actually think that machine learning i\n"
     ]
    },
    {
     "data": {
      "text/plain": [
       "{'source': 'docs/MachineLearning-Lecture01.pdf', 'page': 0}"
      ]
     },
     "execution_count": 3,
     "metadata": {},
     "output_type": "execute_result"
    }
   ],
   "source": [
    "\n",
    "page1 = pages1[0]\n",
    "\n",
    "print(page1.page_content[0:500])\n",
    "\n",
    "\n",
    "page1.metadata"
   ]
  },
  {
   "cell_type": "code",
   "execution_count": 4,
   "metadata": {},
   "outputs": [
    {
     "name": "stdout",
     "output_type": "stream",
     "text": [
      "Catalog 202 3 i ver. 202 3.09.24 \n",
      "161 Mission Falls Lane, Fremont, CA 94539  \n",
      "Tel: (510) 803-SFBU ( 7328); e -mail: admissions@sfbu.edu  \n",
      " \n",
      " \n",
      "2023 CATALOG                           JAN 1 - DEC 31, 2023   \n",
      "  \n",
      "  \n"
     ]
    },
    {
     "data": {
      "text/plain": [
       "{'source': 'docs/2023Catalog.pdf', 'page': 0}"
      ]
     },
     "execution_count": 4,
     "metadata": {},
     "output_type": "execute_result"
    }
   ],
   "source": [
    "loader2 = PyPDFLoader(\"docs/2023Catalog.pdf\")\n",
    "pages2 = loader2.load()\n",
    "\n",
    "len(pages2)\n",
    "\n",
    "page2 = pages2[0]\n",
    "\n",
    "print(page2.page_content[0:500])\n",
    "\n",
    "\n",
    "page2.metadata"
   ]
  },
  {
   "cell_type": "code",
   "execution_count": 5,
   "metadata": {},
   "outputs": [
    {
     "name": "stdout",
     "output_type": "stream",
     "text": [
      "[youtube] Extracting URL: https://www.youtube.com/watch?v=kuZNIvdwnMc\n",
      "[youtube] kuZNIvdwnMc: Downloading webpage\n",
      "[youtube] kuZNIvdwnMc: Downloading ios player API JSON\n",
      "[youtube] kuZNIvdwnMc: Downloading android player API JSON\n"
     ]
    },
    {
     "name": "stderr",
     "output_type": "stream",
     "text": [
      "WARNING: [youtube] YouTube said: ERROR - Precondition check failed.\n",
      "WARNING: [youtube] HTTP Error 400: Bad Request. Retrying (1/3)...\n"
     ]
    },
    {
     "name": "stdout",
     "output_type": "stream",
     "text": [
      "[youtube] kuZNIvdwnMc: Downloading android player API JSON\n"
     ]
    },
    {
     "name": "stderr",
     "output_type": "stream",
     "text": [
      "WARNING: [youtube] YouTube said: ERROR - Precondition check failed.\n",
      "WARNING: [youtube] HTTP Error 400: Bad Request. Retrying (2/3)...\n"
     ]
    },
    {
     "name": "stdout",
     "output_type": "stream",
     "text": [
      "[youtube] kuZNIvdwnMc: Downloading android player API JSON\n",
      "[youtube] kuZNIvdwnMc: Downloading m3u8 information\n",
      "[info] kuZNIvdwnMc: Downloading 1 format(s): 140\n",
      "[download] docs\\youtube\\San Francisco Bay University MBA Student Spotlight： John Odebode.m4a has already been downloaded\n",
      "[download] 100% of   10.20MiB\n",
      "[ExtractAudio] Not converting audio docs\\youtube\\San Francisco Bay University MBA Student Spotlight： John Odebode.m4a; file is already in target format m4a\n",
      "Transcribing part 1!\n"
     ]
    },
    {
     "data": {
      "text/plain": [
       "\"My name is John, John Odebode. I am studying for an MBA program here at SFBU. It's my final trimester at SFBU and I will be graduating in two weeks. I am from Nigeria. I studied at the University of Lagos for my first degree in philosophy. I also studied for my first master's degree in philosophy as well at the same university. I have been practicing within the supply chain industry for the past six years. I have spent the most part of my career at ExxonMobil and I recently completed a six-month\""
      ]
     },
     "execution_count": 5,
     "metadata": {},
     "output_type": "execute_result"
    }
   ],
   "source": [
    "# Youtube\n",
    "\n",
    "from langchain_community.document_loaders.blob_loaders.youtube_audio import (\n",
    "    YoutubeAudioLoader,\n",
    ")\n",
    "from langchain_community.document_loaders.generic import GenericLoader\n",
    "from langchain_community.document_loaders.parsers import (\n",
    "    OpenAIWhisperParser,\n",
    ")\n",
    "\n",
    "url=\"https://www.youtube.com/watch?v=kuZNIvdwnMc\"\n",
    "\n",
    "save_dir=\"docs/youtube/\"\n",
    "\n",
    "loader = GenericLoader(\n",
    "    YoutubeAudioLoader([url],save_dir),\n",
    "    OpenAIWhisperParser()\n",
    ")\n",
    "\n",
    "docs = loader.load()\n",
    "\n",
    "# In[ ]:\n",
    "\n",
    "docs[0].page_content[0:500]"
   ]
  },
  {
   "cell_type": "code",
   "execution_count": 6,
   "metadata": {},
   "outputs": [
    {
     "name": "stdout",
     "output_type": "stream",
     "text": [
      "[youtube] Extracting URL: https://www.youtube.com/watch?v=kuZNIvdwnMc\n",
      "[youtube] kuZNIvdwnMc: Downloading webpage\n",
      "[youtube] kuZNIvdwnMc: Downloading ios player API JSON\n",
      "[youtube] kuZNIvdwnMc: Downloading android player API JSON\n",
      "[youtube] kuZNIvdwnMc: Downloading m3u8 information\n",
      "[info] kuZNIvdwnMc: Downloading 1 format(s): 140\n",
      "[download] docs\\youtube\\San Francisco Bay University MBA Student Spotlight： John Odebode.m4a has already been downloaded\n",
      "[download] 100% of   10.20MiB\n",
      "[ExtractAudio] Not converting audio docs\\youtube\\San Francisco Bay University MBA Student Spotlight： John Odebode.m4a; file is already in target format m4a\n",
      "Transcribing part 1!\n"
     ]
    },
    {
     "data": {
      "text/plain": [
       "\"My name is John, John Odebode. I am studying for an MBA program here at SFBU. It's my final trimester at SFBU and I will be graduating in two weeks. I am from Nigeria. I studied at the University of Lagos for my first degree in philosophy. I also studied for my first master's degree in philosophy as well at the same university. I have been practicing within the supply chain industry for the past six years. I have spent the most part of my career at ExxonMobil and I recently completed a six-month\""
      ]
     },
     "execution_count": 6,
     "metadata": {},
     "output_type": "execute_result"
    }
   ],
   "source": [
    "# YouTube\n",
    "\n",
    "from langchain_community.document_loaders.generic import GenericLoader\n",
    "from langchain_community.document_loaders.parsers import OpenAIWhisperParser\n",
    "from langchain_community.document_loaders.blob_loaders.youtube_audio import YoutubeAudioLoader\n",
    "\n",
    "\n",
    "url=\"https://www.youtube.com/watch?v=kuZNIvdwnMc\"\n",
    "\n",
    "save_dir=\"docs/youtube/\"\n",
    "\n",
    "loader = GenericLoader(\n",
    "    YoutubeAudioLoader([url],save_dir),\n",
    "    OpenAIWhisperParser()\n",
    ")\n",
    "\n",
    "docs = loader.load()\n",
    "\n",
    "# In[ ]:\n",
    "\n",
    "docs[0].page_content[0:500]"
   ]
  },
  {
   "cell_type": "code",
   "execution_count": 7,
   "metadata": {},
   "outputs": [
    {
     "name": "stdout",
     "output_type": "stream",
     "text": [
      "\n",
      "\n",
      "\n",
      "\n",
      "\n",
      "\n",
      "\n",
      "\n",
      "\n",
      "\n",
      "\n",
      "\n",
      "\n",
      "\n",
      "\n",
      "\n",
      "\n",
      "\n",
      "\n",
      "\n",
      "About SFBU | San Francisco Bay University\n",
      "\n",
      "\n",
      "\n",
      "\n",
      "\n",
      "\n",
      "\n",
      "\n",
      "\n",
      "\n",
      "\n",
      "\n",
      "\n",
      "\n",
      "\n",
      "\n",
      "\n",
      "\n",
      "\n",
      "\n",
      "\n",
      "\n",
      "\n",
      "\n",
      "\n",
      "\n",
      "\n",
      "\n",
      "\n",
      "\n",
      "\n",
      "\n",
      "\n",
      "\n",
      "\n",
      "\n",
      "\n",
      "\n",
      "\n",
      "\n",
      "\n",
      "      Skip to main content\n",
      "    \n",
      "\n",
      "\n",
      " \n",
      "\n",
      "\n",
      "\n",
      "\n",
      "\n",
      "\n",
      "\n",
      "\n",
      "\n",
      "\n",
      "\n",
      "\n",
      "\n",
      "\n",
      "\n",
      "Main navigation\n",
      "\n",
      "\n",
      "About Us\n",
      "\n",
      "\n",
      "Overview\n",
      "\n",
      "\n",
      "University Leadership\n",
      "\n",
      "\n",
      "Strategic Plan\n",
      "\n",
      "\n",
      "Accreditation\n",
      "\n",
      "\n",
      "Policies\n",
      "\n",
      "\n",
      "Careers\n",
      "\n",
      "\n",
      "\n",
      "\n",
      "Admissions\n",
      "\n",
      "\n",
      "Requirements for Degree Programs\n",
      "\n",
      "\n",
      "Requirements for Intensive English Program\n",
      "\n",
      "\n",
      "Scholarships\n",
      "\n",
      "\n",
      "Tuition & Costs\n",
      "\n",
      "\n",
      "Articulation & Transfer Agreements\n",
      "\n",
      "\n",
      "Contact Admissions Team\n",
      "\n",
      "\n",
      "Admitted Students\n",
      "\n",
      "\n",
      "\n",
      "\n",
      "Academics\n",
      "\n",
      "\n",
      "Sch\n"
     ]
    }
   ],
   "source": [
    "# URL\n",
    "\n",
    "from langchain.document_loaders import WebBaseLoader\n",
    "\n",
    "# loader = WebBaseLoader(\"https://www.sfbu.edu/admissions/student-health-insurance\")\n",
    "loader = WebBaseLoader(\"https://www.sfbu.edu/about-us\")\n",
    "\n",
    "docs = loader.load()\n",
    "\n",
    "print(docs[0].page_content[:500])"
   ]
  },
  {
   "cell_type": "code",
   "execution_count": 9,
   "metadata": {},
   "outputs": [
    {
     "name": "stdout",
     "output_type": "stream",
     "text": [
      "\n",
      "\n",
      "\n",
      "\n",
      "\n",
      "\n",
      "\n",
      "\n",
      "\n",
      "\n",
      "\n",
      "\n",
      "\n",
      "\n",
      "\n",
      "\n",
      "\n",
      "\n",
      "\n",
      "\n",
      "\n",
      "Student Health Insurance\n",
      "\n",
      "\n",
      "\n",
      "\n",
      "\n",
      "\n",
      "\n",
      "\n",
      "\n",
      "\n",
      "\n",
      "\n",
      "\n",
      "\n",
      "\n",
      "\n",
      "\n",
      "\n",
      "\n",
      "\n",
      "\n",
      "\n",
      "\n",
      "\n",
      "\n",
      "\n",
      "\n",
      "\n",
      "\n",
      "\n",
      "\n",
      "\n",
      "\n",
      "\n",
      "\n",
      "\n",
      "\n",
      "\n",
      "\n",
      "\n",
      "      Skip to main content\n",
      "    \n",
      "\n",
      "\n",
      " \n",
      "\n",
      "\n",
      "\n",
      "\n",
      "\n",
      "\n",
      "\n",
      "\n",
      "\n",
      "\n",
      "\n",
      "\n",
      "\n",
      "\n",
      "\n",
      "Main navigation\n",
      "\n",
      "\n",
      "About Us\n",
      "\n",
      "\n",
      "Overview\n",
      "\n",
      "\n",
      "University Leadership\n",
      "\n",
      "\n",
      "Strategic Plan\n",
      "\n",
      "\n",
      "Accreditation\n",
      "\n",
      "\n",
      "Policies\n",
      "\n",
      "\n",
      "Careers\n",
      "\n",
      "\n",
      "\n",
      "\n",
      "Admissions\n",
      "\n",
      "\n",
      "Requirements for Degree Programs\n",
      "\n",
      "\n",
      "Requirements for Intensive English Program\n",
      "\n",
      "\n",
      "Scholarships\n",
      "\n",
      "\n",
      "Tuition & Costs\n",
      "\n",
      "\n",
      "Articulation & Transfer Agreements\n",
      "\n",
      "\n",
      "Contact Admissions Team\n",
      "\n",
      "\n",
      "Admitted Students\n",
      "\n",
      "\n",
      "\n",
      "\n",
      "Academics\n",
      "\n",
      "\n",
      "School of Business\n",
      "\n",
      "\n"
     ]
    }
   ],
   "source": [
    "loader = WebBaseLoader(\"https://www.sfbu.edu/admissions/student-health-insurance\")\n",
    "\n",
    "docs = loader.load()\n",
    "\n",
    "print(docs[0].page_content[:500])"
   ]
  },
  {
   "cell_type": "code",
   "execution_count": 8,
   "metadata": {},
   "outputs": [
    {
     "name": "stdout",
     "output_type": "stream",
     "text": [
      "# Blendle's Employee Handbook\n",
      "\n",
      "This is a living document with everything we've learned working with people while running a startup. And, of course, we continue to learn. Therefore it's a document that\n"
     ]
    },
    {
     "data": {
      "text/plain": [
       "{'source': \"docs\\\\Notion_DB\\\\Blendle's Employee Handbook 53c1523399f649389383b584c17247c5.md\"}"
      ]
     },
     "execution_count": 8,
     "metadata": {},
     "output_type": "execute_result"
    }
   ],
   "source": [
    "# Notion\n",
    "\n",
    "from langchain.document_loaders import NotionDirectoryLoader\n",
    "loader = NotionDirectoryLoader(\"docs/Notion_DB\")\n",
    "docs = loader.load()\n",
    "\n",
    "\n",
    "# In[ ]:\n",
    "\n",
    "\n",
    "print(docs[0].page_content[0:200])\n",
    "\n",
    "\n",
    "# In[ ]:\n",
    "\n",
    "\n",
    "docs[0].metadata"
   ]
  }
 ],
 "metadata": {
  "kernelspec": {
   "display_name": "Python 3",
   "language": "python",
   "name": "python3"
  },
  "language_info": {
   "codemirror_mode": {
    "name": "ipython",
    "version": 3
   },
   "file_extension": ".py",
   "mimetype": "text/x-python",
   "name": "python",
   "nbconvert_exporter": "python",
   "pygments_lexer": "ipython3",
   "version": "3.11.8"
  }
 },
 "nbformat": 4,
 "nbformat_minor": 2
}
